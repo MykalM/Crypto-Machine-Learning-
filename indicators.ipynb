# Import the required libraries
import numpy as np
import pandas as pd
import yfinance as yf
import ta
import pandas_ta as ta
import hvplot.pandas
from ta.trend import SMAIndicator, macd, PSARIndicator
from ta.volatility import BollingerBands
from ta.momentum import rsi
from ta import add_all_ta_features, add_trend_ta, add_volume_ta, add_volatility_ta, add_momentum_ta, add_others_ta
from pandas_datareader import data as pdr

BTC_Coin = ['BTC-USD']
ETH_Coin = ['ETH-USD']
BNB_Coin = ['BNB-USD']

def get_data(tickers, start_date, end_date):
        
    # download daily price data for each of the stocks in the portfolio
    df = pdr.get_data_yahoo(stocks, start=start_date, end = end_date)
    df.sort_index(inplace = True)
    
    return df

yf.pdr_override() # <== that's all it takes :-)
# download dataframe
BTC = pdr.get_data_yahoo(BTC_Coin, start="2021-01-01", end="2022-07-29")
ETH = pdr.get_data_yahoo(ETH_Coin, start="2021-01-01", end="2022-07-29")
BNB = pdr.get_data_yahoo(BNB_Coin, start="2021-01-01", end="2022-07-29")

display(BTC.tail())
display(ETH.tail())
display(BNB.tail())

def add_indicators(df):
    # Add Simple Moving Average (SMA) indicators
    df["sma5"] = SMAIndicator(close=df["Close"], window=5, fillna=True).sma_indicator()
    df["sma50"] = SMAIndicator(close=df["Close"], window=50, fillna=True).sma_indicator()
    df["sma200"] = SMAIndicator(close=df["Close"], window=200, fillna=True).sma_indicator()
    
    # Add Bollinger Bands indicator
    indicator_bb = BollingerBands(close=df["Close"], window=14, window_dev=2)
    df['bb_bbm'] = indicator_bb.bollinger_mavg()
    df['bb_bbh'] = indicator_bb.bollinger_hband()
    df['bb_bbl'] = indicator_bb.bollinger_lband()
    
    # Add Relative Strength Index (RSI) indicator
    df["RSI"] = rsi(close=df["Close"], window=14, fillna=True)

    # Add Parabolic Stop and Reverse (Parabolic SAR) indicator
    # indicator_psar = PSARIndicator(high=df["High"], low=df["Low"], close=df["Close"], step=0.02, max_step=2, fillna=True)
    # df['psar'] = indicator_psar.psar()

    # Add Moving Average Convergence Divergence (MACD) indicator
    #df["MACD"] = macd(close=df["Close"], window_slow=26, window_fast=12, fillna=True) 
    
    return df
# Portfolio rebalancing based on performance
def portfolio(data, numStocks, numRev):
    df = data.copy()
    selected_crypto = []
    avg_monthly_ret = [0]
    for i in range(len(df)):
        if len(selected_crypto ) > 0:
            avg_monthly_ret.append(df[selected_crypto].iloc[i,:].mean())
            bad_stocks = df[selected_crypto].iloc[i,:].sort_values(ascending=True)[:numRev].index.values.tolist()
            selected_crypto  = [t for t in selected_crypto if t not in bad_stocks]
        fill = numStocks - len(selected_crypto)
        new_picks = df.iloc[i,:].sort_values(ascending=False)[:fill].index.values.tolist()
        selected_crypto  = selected_crypto  + new_picks
        print(selected_crypto)
    returns_df = pd.DataFrame(np.array(avg_monthly_ret),columns=["monthly_returns"])
    return returns_df 

# Add indicators to df
btc_df = add_indicators(BTC).dropna()
eth_df = add_indicators(ETH).dropna()
bnb_df = add_indicators(BNB).dropna()

btc_df.tail()

eth_df.tail()

bnb_df.tail()

# Set BTC Buy Signal
btc_df['Buy_Signal'] = np.where(
    btc_df.bb_bbl > btc_df.Close, True, False
)
# Set BTC Sell Signal
btc_df['Sell_Signal'] = np.where(
    btc_df.bb_bbh < btc_df.Close, True, False
)

# Set ETH Buy Signal
eth_df['Buy_Signal'] = np.where(
    eth_df.bb_bbl > eth_df.Close, True, False
)
# Set ETH Sell Signal
eth_df['Sell_Signal'] = np.where(
    eth_df.bb_bbh < eth_df.Close, True, False
)

# Set BNB Buy Signal
bnb_df['Buy_Signal'] = np.where(
    bnb_df.bb_bbl > bnb_df.Close, True, False
)
# Set BNB Sell Signal
bnb_df['Sell_Signal'] = np.where(
    bnb_df.bb_bbh < bnb_df.Close, True, False
)

open_pos = True
buys = []
sells = []
for i in range(len(bnb_df)):
  if bnb_df.bb_bbl[i] > bnb_df.Close[i]:
    if open_pos == False:
      buys.append(i)
      open_pos = True
  elif bnb_df.bb_bbh[i] < bnb_df.Close[i]:
    if open_pos:
      sells.append(i)
      open_pos = False


portfolio_size = input('How much would you like to invest:')

try: 
  val = float(portfolio_size)
  print(val)
except ValueError:
  print('Please enter valid amount')
  portfolio_size = input('How much would you like to invest:')
  val = float(portfolio_size)

crypto_returns = pd.DataFrame()

crypto_returns = crypto_returns.dropna()

rebalanced_portfolio = portfolio(crypto_returns, 5, 2)
print("Rebalanced Portfolio Performance")
print("CAGR: " + str(CAGR(rebalanced_portfolio)))
print("Sharpe Ratio: " + str(sharpe_ratio(rebalanced_portfolio, 0.03)))
print("Maximum Drawdown: " + str(maximum_drawdown(rebalanced_portfolio) ))

print("\n")
