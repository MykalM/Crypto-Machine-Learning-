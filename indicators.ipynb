# Import the required libraries
import numpy as np
import pandas as pd
import yfinance as yf
import ta
import pandas_ta as ta
import hvplot.pandas
from ta.trend import SMAIndicator, macd, PSARIndicator
from ta.volatility import BollingerBands
from ta.momentum import rsi
from ta import add_all_ta_features, add_trend_ta, add_volume_ta, add_volatility_ta, add_momentum_ta, add_others_ta
from pandas_datareader import data as pdr
import plotly.graph_objects as go
from plotly.subplots import make_subplots
import matplotlib.pyplot as plt

# Setting tickers = to the crypto we want to call
tickers = ['BTC-USD', 'ETH-USD', 'USDC-USD', 'BNB-USD',
'ADA-USD',
'XRP-USD',
'SOL-USD',
'DOGE-USD',
'DOT-USD',
'UNI-USD',
'BTT2-USD',
'TRX-USD',
'NEO-USD',
'XVG-USD',
'XMR-USD'
]

# call all the crypto data
stock_data = yf.download(tickers, start='2020-04-1', end='2022-08-01')
stock_data = stock_data.dropna()
# not sure which way is best to call the crypto data for when it comes to adding everything together
# stock_data2 = pdr.get_data_yahoo(tickers, start='2020-04-1', end='2022-08-01')
# stock_data2 = stock_data2.dropna()

stock_data_close = stock_data["Close"]
stock_data_close

# Cannot add my additional indicators to the DF of all the Cryptos
# add_indicators(stock_data_close)
# add_indicators(stock_data)
# add_indicators(stock_data)np.random.seed(0)
# df = pd.DataFrame(np.random.randn(5,3), columns=list('ABC'))

# Trying to make a dictionary of all the stocks
'''
coins_dict = (
    BTC_Coins = ['BTC-USD'],
    ETH_Coins = ['ETH-USD'],
    USDC_Coins = ['USDC-USD'],
    BNB_Coins = ['BNB-USD'],
    ADA_Coins = ['ADA-USD'],
    XRP_Coins = ['XRP-USD'],
    SOL_Coins = ['SOL-USD'],
    DOGE_Coins = ['DOGE-USD'],
    DOT_Coins = ['DOT-USD'],
    UNI_Coins = ['UNI-USD'],
    BTT2_Coins = ['BTT2-USD'],
    TRX_Coins = ['TRX-USD'],
    NEO_Coins = ['NEO-USD'],
    XVG_Coins = ['XVG-USD'],
    XMR_Coins = ['XMR-USD']
)
'''
# Trying to add the coins by a new call symbol
# crypto_coins = pdr.get_data_yahoo(coins_dict, start="2021-01-01", end="2022-08-01")

# still wont add my indicators to the df
# add_indicators(stock_data2)

BTC_Coin = ['BTC-USD']
ETH_Coin = ['ETH-USD']
BNB_Coin = ['BNB-USD']

def get_data(tickers, start_date, end_date):
        
    # download daily price data for each of the stocks in the portfolio
    df = pdr.get_data_yahoo(stocks, start=start_date, end = end_date)
    df.sort_index(inplace = True)
    
    return df

yf.pdr_override() # <== that's all it takes :-)
# download dataframe
BTC = pdr.get_data_yahoo(BTC_Coin, start="2019-01-01", end="2022-08-01")
ETH = pdr.get_data_yahoo(ETH_Coin, start="2019-01-01", end="2022-08-01")
BNB = pdr.get_data_yahoo(BNB_Coin, start="2019-01-01", end="2022-08-01")

display(BTC.head())
display(ETH.tail())
display(BNB.tail())

def add_indicators(df):
    # Add Simple Moving Average (SMA) indicators
    df["sma5"] = SMAIndicator(close=df["Close"], window=5, fillna=True).sma_indicator()
    df["sma50"] = SMAIndicator(close=df["Close"], window=50, fillna=True).sma_indicator()
    df["sma200"] = SMAIndicator(close=df["Close"], window=200, fillna=True).sma_indicator()
    
    # Add Bollinger Bands indicator
    indicator_bb = BollingerBands(close=df["Close"], window=14, window_dev=2)
    df['bb_bbm'] = indicator_bb.bollinger_mavg()
    df['bb_bbh'] = indicator_bb.bollinger_hband()
    df['bb_bbl'] = indicator_bb.bollinger_lband()
    
    # Add Relative Strength Index (RSI) indicator
    df["RSI"] = rsi(close=df["Close"], window=12, fillna=True)

    # Add Parabolic Stop and Reverse (Parabolic SAR) indicator
    # indicator_psar = PSARIndicator(high=df["High"], low=df["Low"], close=df["Close"], step=0.02, max_step=2, fillna=True)
    # df['psar'] = indicator_psar.psar()

    # Add Moving Average Convergence Divergence (MACD) indicator
    #df["MACD"] = macd(close=df["Close"], window_slow=26, window_fast=12, fillna=True) 
    
    return df
# Portfolio rebalancing based on performance
def portfolio(data, numStocks, numRev):
    df = data.copy()
    selected_crypto = []
    avg_monthly_ret = [0]
    for i in range(len(df)):
        if len(selected_crypto ) > 0:
            avg_monthly_ret.append(df[selected_crypto].iloc[i,:].mean())
            bad_stocks = df[selected_crypto].iloc[i,:].sort_values(ascending=True)[:numRev].index.values.tolist()
            selected_crypto  = [t for t in selected_crypto if t not in bad_stocks]
        fill = numStocks - len(selected_crypto)
        new_picks = df.iloc[i,:].sort_values(ascending=False)[:fill].index.values.tolist()
        selected_crypto  = selected_crypto  + new_picks
        print(selected_crypto)
    returns_df = pd.DataFrame(np.array(avg_monthly_ret),columns=["monthly_returns"])
    return returns_df 

# Calling just one crypto from the DF
crypto_indicators = stock_data["Close", "ADA-USD"]
crypto_indicators

# Add indicators to df
btc_df = add_indicators(BTC).dropna()
eth_df = add_indicators(ETH).dropna()
bnb_df = add_indicators(BNB).dropna()

btc_df.tail()

eth_df.tail()

bnb_df.tail()

# Set BTC Buy Signal
btc_df['Buy_Signal'] = np.where(
    btc_df.bb_bbl > btc_df.Close, True, False
)
# Set BTC Sell Signal
btc_df['Sell_Signal'] = np.where(
    btc_df.bb_bbh < btc_df.Close, True, False
)

# Set ETH Buy Signal
eth_df['Buy_Signal'] = np.where(
    eth_df.bb_bbl > eth_df.Close, True, False
)
# Set ETH Sell Signal
eth_df['Sell_Signal'] = np.where(
    eth_df.bb_bbh < eth_df.Close, True, False
)

# Set BNB Buy Signal
bnb_df['Buy_Signal'] = np.where(
    bnb_df.bb_bbl > bnb_df.Close, True, False
)
# Set BNB Sell Signal
bnb_df['Sell_Signal'] = np.where(
    bnb_df.bb_bbh < bnb_df.Close, True, False
)

# BTC Buy/Sell
open_pos = True
btc_buys = []
btc_sells = []
for i in range(len(btc_df)):
  if btc_df.bb_bbl[i] > btc_df.Close[i]:
    if open_pos == False:
      btc_buys.append(i)
      open_pos = True
  elif btc_df.bb_bbh[i] < btc_df.Close[i]:
    if open_pos:
      btc_sells.append(i)
      open_pos = False

btc_sells

# ETH Buy/Sell
open_pos = True
eth_buys = []
eth_sells = []
for i in range(len(bnb_df)):
  if bnb_df.bb_bbl[i] > bnb_df.Close[i]:
    if open_pos == False:
      eth_buys.append(i)
      open_pos = True
  elif bnb_df.bb_bbh[i] < bnb_df.Close[i]:
    if open_pos:
      eth_sells.append(i)
      open_pos = False

eth_buys

# BNB Buy/Sell
open_pos = True
bnb_buys = []
bnb_sells = []
for i in range(len(bnb_df)):
  if bnb_df.bb_bbl[i] > bnb_df.Close[i]:
    if open_pos == False:
      bnb_buys.append(i)
      open_pos = True
  elif bnb_df.bb_bbh[i] < bnb_df.Close[i]:
    if open_pos:
      bnb_sells.append(i)
      open_pos = False


bnb_buys

# Graphing everything together BTC
def signal(btc_df):
    SMAIndicator = [0]*len(btc_df)
    for i in range(0, len(btc_df)):
        if btc_df.sma50[i]>btc_df.sma200[i]:
            SMAIndicator[i]=2
        elif btc_df.sma50[i]<btc_df.sma200[i]:
            SMAIndicator[i]=1
    btc_df['SMAIndicator'] = SMAIndicator
signal(btc_df)

def add_orders_limit(btc_df, percent):
    ordersignal=[0]*len(btc_df)
    for i in range(1, len(btc_df)): 
        if  btc_df.Close[i]<=btc_df['bb_bbl'][i] and btc_df.SMAIndicator[i]==2:
            ordersignal[i]=btc_df.Close[i]-btc_df.Close[i]*percent
        elif btc_df.Close[i]>=btc_df['bb_bbh'][i] and btc_df.SMAIndicator[i]==1:
            ordersignal[i]=btc_df.Close[i]+btc_df.Close[i]*percent
    btc_df['ordersignal']=ordersignal
    
add_orders_limit(btc_df, 0.000)

def pointposbreak(btc_df):
    if btc_df['ordersignal']!=0:
        return btc_df['ordersignal']
    else:
        return np.nan
btc_df['pointposbreak'] = btc_df.apply(lambda row: pointposbreak(row), axis=1)

BTC_plot = btc_df[1000:3200].copy()
#btc_df=btc_df.drop(columns=['level_0'])#!!!!!!!!!!
#btc_df.reset_index(inplace=True)
fig = go.Figure(data=[go.Candlestick(x=btc_df.index,
                open=btc_df['Open'],
                high=btc_df['High'],
                low=btc_df['Low'],
                close=btc_df['Close']),
                go.Scatter(x=btc_df.index, y=btc_df['sma50'], line=dict(color='orange', width=2), name="SMA50"),
                go.Scatter(x=btc_df.index, y=btc_df["sma200"], line=dict(color='yellow', width=2), name="SMA200"),        
                go.Scatter(x=btc_df.index, y=btc_df['bb_bbl'], line=dict(color='blue', width=1), name="BBL"),
                go.Scatter(x=btc_df.index, y=btc_df['bb_bbh'], line=dict(color='blue', width=1), name="BBU")])

fig.add_scatter(x=btc_df.index, y=btc_df['pointposbreak'], mode="markers",
                marker=dict(size=6, color="MediumPurple"),
                name="Signal")
#fig.update(layout_yaxis_range = [300,420])
fig.update_xaxes(rangeslider_visible=False)
fig.update_layout(autosize=False, width=1600, height=800,margin=dict(l=50,r=50,b=100,t=100,pad=4), paper_bgcolor="white")
fig.show()

btc_df[btc_df.ordersignal!=0]

# Graphing everything together BNB
def signal(bnb_df):
    SMAIndicator = [0]*len(bnb_df)
    for i in range(0, len(bnb_df)):
        if bnb_df.sma50[i]>bnb_df.sma200[i]:
            SMAIndicator[i]=2
        elif bnb_df.sma50[i]<bnb_df.sma200[i]:
            SMAIndicator[i]=1
    bnb_df['SMAIndicator'] = SMAIndicator
signal(bnb_df)

def add_orders_limit(bnb_df, percent):
    ordersignal=[0]*len(bnb_df)
    for i in range(1, len(bnb_df)): 
        if  bnb_df.Close[i]<=bnb_df['bb_bbl'][i] and bnb_df.SMAIndicator[i]==2:
            ordersignal[i]=bnb_df.Close[i]-bnb_df.Close[i]*percent
        elif bnb_df.Close[i]>=bnb_df['bb_bbh'][i] and bnb_df.SMAIndicator[i]==1:
            ordersignal[i]=bnb_df.Close[i]+bnb_df.Close[i]*percent
    bnb_df['ordersignal']=ordersignal
    
add_orders_limit(bnb_df, 0.000)

def pointposbreak(bnb_df):
    if bnb_df['ordersignal']!=0:
        return bnb_df['ordersignal']
    else:
        return np.nan
bnb_df['pointposbreak'] = bnb_df.apply(lambda row: pointposbreak(row), axis=1)

BTC_plot = bnb_df[1000:3200].copy()
#bnb_df=bnb_df.drop(columns=['level_0'])#!!!!!!!!!!
#bnb_df.reset_index(inplace=True)
fig = go.Figure(data=[go.Candlestick(x=bnb_df.index,
                open=bnb_df['Open'],
                high=bnb_df['High'],
                low=bnb_df['Low'],
                close=bnb_df['Close']),
                go.Scatter(x=bnb_df.index, y=bnb_df['sma50'], line=dict(color='orange', width=2), name="SMA50"),
                go.Scatter(x=bnb_df.index, y=bnb_df["sma200"], line=dict(color='yellow', width=2), name="SMA200"),        
                go.Scatter(x=bnb_df.index, y=bnb_df['bb_bbl'], line=dict(color='blue', width=1), name="BBL"),
                go.Scatter(x=bnb_df.index, y=bnb_df['bb_bbh'], line=dict(color='blue', width=1), name="BBU")])

fig.add_scatter(x=bnb_df.index, y=bnb_df['pointposbreak'], mode="markers",
                marker=dict(size=6, color="MediumPurple"),
                name="Signal")
#fig.update(layout_yaxis_range = [300,420])
fig.update_xaxes(rangeslider_visible=False)
fig.update_layout(autosize=False, width=1600, height=800,margin=dict(l=50,r=50,b=100,t=100,pad=4), paper_bgcolor="white")
fig.show()

bnb_df[bnb_df.ordersignal!=0]

# Graphing everything together ETH
def signal(eth_df):
    SMAIndicator = [0]*len(eth_df)
    for i in range(0, len(eth_df)):
        if eth_df.sma50[i]>eth_df.sma200[i]:
            SMAIndicator[i]=2
        elif eth_df.sma50[i]<eth_df.sma200[i]:
            SMAIndicator[i]=1
    eth_df['SMAIndicator'] = SMAIndicator
signal(eth_df)

def add_orders_limit(eth_df, percent):
    ordersignal=[0]*len(eth_df)
    for i in range(1, len(eth_df)): 
        if  eth_df.Close[i]<=eth_df['bb_bbl'][i] and eth_df.SMAIndicator[i]==2:
            ordersignal[i]=eth_df.Close[i]-eth_df.Close[i]*percent
        elif eth_df.Close[i]>=eth_df['bb_bbh'][i] and eth_df.SMAIndicator[i]==1:
            ordersignal[i]=eth_df.Close[i]+eth_df.Close[i]*percent
    eth_df['ordersignal']=ordersignal
    
add_orders_limit(eth_df, 0.000)

def pointposbreak(eth_df):
    if eth_df['ordersignal']!=0:
        return eth_df['ordersignal']
    else:
        return np.nan
eth_df['pointposbreak'] = eth_df.apply(lambda row: pointposbreak(row), axis=1)

BTC_plot = eth_df[1000:3200].copy()
#eth_df=eth_df.drop(columns=['level_0'])#!!!!!!!!!!
#eth_df.reset_index(inplace=True)
fig = go.Figure(data=[go.Candlestick(x=eth_df.index,
                open=eth_df['Open'],
                high=eth_df['High'],
                low=eth_df['Low'],
                close=eth_df['Close']),
                go.Scatter(x=eth_df.index, y=eth_df['sma50'], line=dict(color='orange', width=2), name="SMA50"),
                go.Scatter(x=eth_df.index, y=eth_df["sma200"], line=dict(color='yellow', width=2), name="SMA200"),        
                go.Scatter(x=eth_df.index, y=eth_df['bb_bbl'], line=dict(color='blue', width=1), name="BBL"),
                go.Scatter(x=eth_df.index, y=eth_df['bb_bbh'], line=dict(color='blue', width=1), name="BBU")])

fig.add_scatter(x=eth_df.index, y=eth_df['pointposbreak'], mode="markers",
                marker=dict(size=6, color="MediumPurple"),
                name="Signal")

fig.update_xaxes(rangeslider_visible=False)
fig.update_layout(autosize=False, width=1600, height=800,margin=dict(l=50,r=50,b=100,t=100,pad=4), paper_bgcolor="white")
fig.show()

eth_df[eth_df.ordersignal!=0]

def CAGR(data):
    df = data.copy()
    df['cumulative_returns'] = (1 + df['monthly_returns']).cumprod()
    trading_months = 12
    n = len(df)/ trading_months
    cagr = (df['cumulative_returns'][len(df)-1])**(1/n) - 1
    return cagr

def volatility(data):
    df = data.copy()
    trading_months = 12
    vol = df['monthly_returns'].std() * np.sqrt(trading_months)
    return vol

def sharpe_ratio(data, rf):
    df = data.copy()
    sharpe = (CAGR(df) - rf)/ volatility(df)
    return sharpe 

def maximum_drawdown(data):
    df = data.copy()
    df['cumulative_returns'] =  (1 + df['monthly_returns']).cumprod()
    df['cumulative_max'] = df['cumulative_returns'].cummax()
    df['drawdown'] = df['cumulative_max'] - df['cumulative_returns']
    df['drawdown_pct'] = df['drawdown'] / df['cumulative_max']
    max_dd = df['drawdown_pct'].max()
    return max_dd

# Filter the date index and close columns
btc_signals_df = btc_df.loc[:, ["Close"]]

# Use the pct_change function to generate  returns from close prices
btc_signals_df["Actual Returns"] = btc_signals_df["Close"].pct_change()

# Drop all NaN values from the DataFrame
btc_signals_df = btc_signals_df.dropna()

# Review the DataFrame
display(btc_signals_df.head())
display(btc_signals_df.tail())

# Filter the date index and close columns
eth_signals_df = eth_df.loc[:, ["Close"]]

# Use the pct_change function to generate  returns from close prices
eth_signals_df["Actual Returns"] = eth_signals_df["Close"].pct_change()

# Drop all NaN values from the DataFrame
eth_signals_df = eth_signals_df.dropna()

# Review the DataFrame
display(eth_signals_df.head())
display(eth_signals_df.tail())

# Filter the date index and close columns
bnb_signals_df = bnb_df.loc[:, ["Close"]]

# Use the pct_change function to generate  returns from close prices
bnb_signals_df["Actual Returns"] = bnb_signals_df["Close"].pct_change()

# Drop all NaN values from the DataFrame
bnb_signals_df = bnb_signals_df.dropna()

# Review the DataFrame
display(bnb_signals_df.head())
display(bnb_signals_df.tail())

crypto_returns_portfolio = (btc_signals_df * eth_signals_df * bnb_signals_df)
crypto_returns_portfolio

crypto_returns1 = pd.DataFrame()

crypto_returns1 = crypto_returns1.dropna()

rebalanced_portfolio = portfolio(crypto_returns1, 5, 2)
print("Rebalanced Portfolio Performance")
print("CAGR: " + str(CAGR(rebalanced_portfolio)))
print("Sharpe Ratio: " + str(sharpe_ratio(rebalanced_portfolio, 0.03)))
print("Maximum Drawdown: " + str(maximum_drawdown(rebalanced_portfolio) ))

print("\n")

print("BTC, BNB Performance")
print("CAGR: " + str(CAGR(rebalanced_portfolio)))
print("Sharpe Ratio: " + str(sharpe_ratio(rebalanced_portfolio, 0.03)))
print("Maximum Drawdown: " + str(maximum_drawdown(rebalanced_portfolio) ))

fig, ax = plt.subplots()
plt.plot((1+portfolio(crypto_returns, 5, 2)).cumprod())
plt.plot((1+rebalanced_portfolio["monthly_returns"].reset_index(drop=True)).cumprod())
plt.title("Portfolio Return vs Rebalancing Strategy Return")
plt.ylabel("cumulative return")
plt.xlabel("months")
ax.legend(["Strategy Return","Index Return"])

portfolio_size = input('How much would you like to invest:')

try: 
  val = float(portfolio_size)
  print(val)
except ValueError:
  print('Please enter valid amount')
  portfolio_size = input('How much would you like to invest:')
  val = float(portfolio_size)
